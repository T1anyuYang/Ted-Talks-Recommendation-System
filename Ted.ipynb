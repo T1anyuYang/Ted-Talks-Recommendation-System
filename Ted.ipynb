{
 "cells": [
  {
   "cell_type": "code",
   "execution_count": 1,
   "id": "a88e0a55",
   "metadata": {},
   "outputs": [
    {
     "data": {
      "text/html": [
       "<div>\n",
       "<style scoped>\n",
       "    .dataframe tbody tr th:only-of-type {\n",
       "        vertical-align: middle;\n",
       "    }\n",
       "\n",
       "    .dataframe tbody tr th {\n",
       "        vertical-align: top;\n",
       "    }\n",
       "\n",
       "    .dataframe thead th {\n",
       "        text-align: right;\n",
       "    }\n",
       "</style>\n",
       "<table border=\"1\" class=\"dataframe\">\n",
       "  <thead>\n",
       "    <tr style=\"text-align: right;\">\n",
       "      <th></th>\n",
       "      <th>transcript</th>\n",
       "      <th>url</th>\n",
       "    </tr>\n",
       "  </thead>\n",
       "  <tbody>\n",
       "    <tr>\n",
       "      <th>0</th>\n",
       "      <td>Good morning. How are you?(Laughter)It's been ...</td>\n",
       "      <td>https://www.ted.com/talks/ken_robinson_says_sc...</td>\n",
       "    </tr>\n",
       "    <tr>\n",
       "      <th>1</th>\n",
       "      <td>Thank you so much, Chris. And it's truly a gre...</td>\n",
       "      <td>https://www.ted.com/talks/al_gore_on_averting_...</td>\n",
       "    </tr>\n",
       "    <tr>\n",
       "      <th>2</th>\n",
       "      <td>(Music: \"The Sound of Silence,\" Simon &amp; Garfun...</td>\n",
       "      <td>https://www.ted.com/talks/david_pogue_says_sim...</td>\n",
       "    </tr>\n",
       "    <tr>\n",
       "      <th>3</th>\n",
       "      <td>If you're here today — and I'm very happy that...</td>\n",
       "      <td>https://www.ted.com/talks/majora_carter_s_tale...</td>\n",
       "    </tr>\n",
       "    <tr>\n",
       "      <th>4</th>\n",
       "      <td>About 10 years ago, I took on the task to teac...</td>\n",
       "      <td>https://www.ted.com/talks/hans_rosling_shows_t...</td>\n",
       "    </tr>\n",
       "  </tbody>\n",
       "</table>\n",
       "</div>"
      ],
      "text/plain": [
       "                                          transcript  \\\n",
       "0  Good morning. How are you?(Laughter)It's been ...   \n",
       "1  Thank you so much, Chris. And it's truly a gre...   \n",
       "2  (Music: \"The Sound of Silence,\" Simon & Garfun...   \n",
       "3  If you're here today — and I'm very happy that...   \n",
       "4  About 10 years ago, I took on the task to teac...   \n",
       "\n",
       "                                                 url  \n",
       "0  https://www.ted.com/talks/ken_robinson_says_sc...  \n",
       "1  https://www.ted.com/talks/al_gore_on_averting_...  \n",
       "2  https://www.ted.com/talks/david_pogue_says_sim...  \n",
       "3  https://www.ted.com/talks/majora_carter_s_tale...  \n",
       "4  https://www.ted.com/talks/hans_rosling_shows_t...  "
      ]
     },
     "execution_count": 1,
     "metadata": {},
     "output_type": "execute_result"
    }
   ],
   "source": [
    "import numpy as np\n",
    "import pandas as pd\n",
    "data = pd.read_csv('ted_talks.csv')\n",
    "data.head()"
   ]
  },
  {
   "cell_type": "code",
   "execution_count": 2,
   "id": "b80cc20f",
   "metadata": {},
   "outputs": [
    {
     "data": {
      "text/html": [
       "<div>\n",
       "<style scoped>\n",
       "    .dataframe tbody tr th:only-of-type {\n",
       "        vertical-align: middle;\n",
       "    }\n",
       "\n",
       "    .dataframe tbody tr th {\n",
       "        vertical-align: top;\n",
       "    }\n",
       "\n",
       "    .dataframe thead th {\n",
       "        text-align: right;\n",
       "    }\n",
       "</style>\n",
       "<table border=\"1\" class=\"dataframe\">\n",
       "  <thead>\n",
       "    <tr style=\"text-align: right;\">\n",
       "      <th></th>\n",
       "      <th>transcript</th>\n",
       "      <th>url</th>\n",
       "      <th>title</th>\n",
       "    </tr>\n",
       "  </thead>\n",
       "  <tbody>\n",
       "    <tr>\n",
       "      <th>0</th>\n",
       "      <td>Good morning. How are you?(Laughter)It's been ...</td>\n",
       "      <td>https://www.ted.com/talks/ken_robinson_says_sc...</td>\n",
       "      <td>ken_robinson_says_schools_kill_creativity\\n</td>\n",
       "    </tr>\n",
       "    <tr>\n",
       "      <th>1</th>\n",
       "      <td>Thank you so much, Chris. And it's truly a gre...</td>\n",
       "      <td>https://www.ted.com/talks/al_gore_on_averting_...</td>\n",
       "      <td>al_gore_on_averting_climate_crisis\\n</td>\n",
       "    </tr>\n",
       "    <tr>\n",
       "      <th>2</th>\n",
       "      <td>(Music: \"The Sound of Silence,\" Simon &amp; Garfun...</td>\n",
       "      <td>https://www.ted.com/talks/david_pogue_says_sim...</td>\n",
       "      <td>david_pogue_says_simplicity_sells\\n</td>\n",
       "    </tr>\n",
       "    <tr>\n",
       "      <th>3</th>\n",
       "      <td>If you're here today — and I'm very happy that...</td>\n",
       "      <td>https://www.ted.com/talks/majora_carter_s_tale...</td>\n",
       "      <td>majora_carter_s_tale_of_urban_renewal\\n</td>\n",
       "    </tr>\n",
       "    <tr>\n",
       "      <th>4</th>\n",
       "      <td>About 10 years ago, I took on the task to teac...</td>\n",
       "      <td>https://www.ted.com/talks/hans_rosling_shows_t...</td>\n",
       "      <td>hans_rosling_shows_the_best_stats_you_ve_ever_...</td>\n",
       "    </tr>\n",
       "  </tbody>\n",
       "</table>\n",
       "</div>"
      ],
      "text/plain": [
       "                                          transcript  \\\n",
       "0  Good morning. How are you?(Laughter)It's been ...   \n",
       "1  Thank you so much, Chris. And it's truly a gre...   \n",
       "2  (Music: \"The Sound of Silence,\" Simon & Garfun...   \n",
       "3  If you're here today — and I'm very happy that...   \n",
       "4  About 10 years ago, I took on the task to teac...   \n",
       "\n",
       "                                                 url  \\\n",
       "0  https://www.ted.com/talks/ken_robinson_says_sc...   \n",
       "1  https://www.ted.com/talks/al_gore_on_averting_...   \n",
       "2  https://www.ted.com/talks/david_pogue_says_sim...   \n",
       "3  https://www.ted.com/talks/majora_carter_s_tale...   \n",
       "4  https://www.ted.com/talks/hans_rosling_shows_t...   \n",
       "\n",
       "                                               title  \n",
       "0        ken_robinson_says_schools_kill_creativity\\n  \n",
       "1               al_gore_on_averting_climate_crisis\\n  \n",
       "2                david_pogue_says_simplicity_sells\\n  \n",
       "3            majora_carter_s_tale_of_urban_renewal\\n  \n",
       "4  hans_rosling_shows_the_best_stats_you_ve_ever_...  "
      ]
     },
     "execution_count": 2,
     "metadata": {},
     "output_type": "execute_result"
    }
   ],
   "source": [
    "data['title'] = data['url'].map(lambda x:x.split('/')[-1])\n",
    "data.head()"
   ]
  },
  {
   "cell_type": "code",
   "execution_count": 3,
   "id": "ff44bc71",
   "metadata": {},
   "outputs": [],
   "source": [
    "from sklearn.feature_extraction import text\n",
    "ted_talks = data['transcript'].tolist()"
   ]
  },
  {
   "cell_type": "code",
   "execution_count": 4,
   "id": "7ba8949c",
   "metadata": {},
   "outputs": [],
   "source": [
    "bi_tfidf = text.TfidfVectorizer(input=ted_talks,stop_words='english',ngram_range=(1,2))"
   ]
  },
  {
   "cell_type": "code",
   "execution_count": 5,
   "id": "4b1037c2",
   "metadata": {},
   "outputs": [],
   "source": [
    "bi_matrix = bi_tfidf.fit_transform(ted_talks)"
   ]
  },
  {
   "cell_type": "code",
   "execution_count": 6,
   "id": "26a6364e",
   "metadata": {},
   "outputs": [],
   "source": [
    "uni_tfidf = text.TfidfVectorizer(input=ted_talks, stop_words='english')"
   ]
  },
  {
   "cell_type": "code",
   "execution_count": 7,
   "id": "c01f4c93",
   "metadata": {},
   "outputs": [],
   "source": [
    "uni_matrix = uni_tfidf.fit_transform(ted_talks)"
   ]
  },
  {
   "cell_type": "code",
   "execution_count": 8,
   "id": "30b8414c",
   "metadata": {},
   "outputs": [],
   "source": [
    "from sklearn.metrics.pairwise import cosine_similarity\n",
    "bi_sim = cosine_similarity(bi_matrix)\n",
    "uni_sim = cosine_similarity(uni_matrix)\n"
   ]
  },
  {
   "cell_type": "code",
   "execution_count": 9,
   "id": "0360f5ee",
   "metadata": {},
   "outputs": [],
   "source": [
    "def recommend_ted_talks(x):\n",
    "    return '.'.join(data['title'].loc[x.argsort()[-5:-1]])"
   ]
  },
  {
   "cell_type": "code",
   "execution_count": 10,
   "id": "44de7285",
   "metadata": {},
   "outputs": [],
   "source": [
    "data['ted_talks_uni'] = [recommend_ted_talks(x) for x in uni_sim]\n",
    "data['ted_talk_bi'] = [recommend_ted_talks(x) for x in bi_sim]"
   ]
  },
  {
   "cell_type": "code",
   "execution_count": 11,
   "id": "2c05a404",
   "metadata": {},
   "outputs": [
    {
     "name": "stdout",
     "output_type": "stream",
     "text": [
      "['RORY BREMNER S ONE MAN WORLD SUMMIT', '.ALICE BOWS LARKIN WE RE TOO LATE TO PREVENT CLIMATE CHANGE HERE S HOW WE ADAPT', '.TED HALSTEAD A CLIMATE SOLUTION WHERE ALL SIDES CAN WIN', '.AL GORE S NEW THINKING ON THE CLIMATE CRISIS']\n"
     ]
    }
   ],
   "source": [
    "print(data['ted_talks_uni'].str.replace('_',' ').str.upper().str.strip().str.split('\\n')[1])"
   ]
  },
  {
   "cell_type": "code",
   "execution_count": 12,
   "id": "52995c65",
   "metadata": {},
   "outputs": [
    {
     "data": {
      "text/html": [
       "<div>\n",
       "<style scoped>\n",
       "    .dataframe tbody tr th:only-of-type {\n",
       "        vertical-align: middle;\n",
       "    }\n",
       "\n",
       "    .dataframe tbody tr th {\n",
       "        vertical-align: top;\n",
       "    }\n",
       "\n",
       "    .dataframe thead th {\n",
       "        text-align: right;\n",
       "    }\n",
       "</style>\n",
       "<table border=\"1\" class=\"dataframe\">\n",
       "  <thead>\n",
       "    <tr style=\"text-align: right;\">\n",
       "      <th></th>\n",
       "      <th>transcript</th>\n",
       "      <th>url</th>\n",
       "      <th>title</th>\n",
       "      <th>ted_talks_uni</th>\n",
       "      <th>ted_talk_bi</th>\n",
       "    </tr>\n",
       "  </thead>\n",
       "  <tbody>\n",
       "    <tr>\n",
       "      <th>0</th>\n",
       "      <td>Good morning. How are you?(Laughter)It's been ...</td>\n",
       "      <td>https://www.ted.com/talks/ken_robinson_says_sc...</td>\n",
       "      <td>ken_robinson_says_schools_kill_creativity\\n</td>\n",
       "      <td>rory_bremner_s_one_man_world_summit\\n.sakena_y...</td>\n",
       "      <td>sakena_yacoobi_how_i_stopped_the_taliban_from_...</td>\n",
       "    </tr>\n",
       "    <tr>\n",
       "      <th>1</th>\n",
       "      <td>Thank you so much, Chris. And it's truly a gre...</td>\n",
       "      <td>https://www.ted.com/talks/al_gore_on_averting_...</td>\n",
       "      <td>al_gore_on_averting_climate_crisis\\n</td>\n",
       "      <td>rory_bremner_s_one_man_world_summit\\n.alice_bo...</td>\n",
       "      <td>alice_bows_larkin_we_re_too_late_to_prevent_cl...</td>\n",
       "    </tr>\n",
       "    <tr>\n",
       "      <th>2</th>\n",
       "      <td>(Music: \"The Sound of Silence,\" Simon &amp; Garfun...</td>\n",
       "      <td>https://www.ted.com/talks/david_pogue_says_sim...</td>\n",
       "      <td>david_pogue_says_simplicity_sells\\n</td>\n",
       "      <td>rory_bremner_s_one_man_world_summit\\n.david_ca...</td>\n",
       "      <td>rory_bremner_s_one_man_world_summit\\n.david_ca...</td>\n",
       "    </tr>\n",
       "    <tr>\n",
       "      <th>3</th>\n",
       "      <td>If you're here today — and I'm very happy that...</td>\n",
       "      <td>https://www.ted.com/talks/majora_carter_s_tale...</td>\n",
       "      <td>majora_carter_s_tale_of_urban_renewal\\n</td>\n",
       "      <td>dena_simmons_how_students_of_color_confront_im...</td>\n",
       "      <td>janette_sadik_khan_new_york_s_streets_not_so_m...</td>\n",
       "    </tr>\n",
       "    <tr>\n",
       "      <th>4</th>\n",
       "      <td>About 10 years ago, I took on the task to teac...</td>\n",
       "      <td>https://www.ted.com/talks/hans_rosling_shows_t...</td>\n",
       "      <td>hans_rosling_shows_the_best_stats_you_ve_ever_...</td>\n",
       "      <td>hans_rosling_religions_and_babies\\n.hans_rosli...</td>\n",
       "      <td>hans_rosling_on_global_population_growth\\n.han...</td>\n",
       "    </tr>\n",
       "  </tbody>\n",
       "</table>\n",
       "</div>"
      ],
      "text/plain": [
       "                                          transcript  \\\n",
       "0  Good morning. How are you?(Laughter)It's been ...   \n",
       "1  Thank you so much, Chris. And it's truly a gre...   \n",
       "2  (Music: \"The Sound of Silence,\" Simon & Garfun...   \n",
       "3  If you're here today — and I'm very happy that...   \n",
       "4  About 10 years ago, I took on the task to teac...   \n",
       "\n",
       "                                                 url  \\\n",
       "0  https://www.ted.com/talks/ken_robinson_says_sc...   \n",
       "1  https://www.ted.com/talks/al_gore_on_averting_...   \n",
       "2  https://www.ted.com/talks/david_pogue_says_sim...   \n",
       "3  https://www.ted.com/talks/majora_carter_s_tale...   \n",
       "4  https://www.ted.com/talks/hans_rosling_shows_t...   \n",
       "\n",
       "                                               title  \\\n",
       "0        ken_robinson_says_schools_kill_creativity\\n   \n",
       "1               al_gore_on_averting_climate_crisis\\n   \n",
       "2                david_pogue_says_simplicity_sells\\n   \n",
       "3            majora_carter_s_tale_of_urban_renewal\\n   \n",
       "4  hans_rosling_shows_the_best_stats_you_ve_ever_...   \n",
       "\n",
       "                                       ted_talks_uni  \\\n",
       "0  rory_bremner_s_one_man_world_summit\\n.sakena_y...   \n",
       "1  rory_bremner_s_one_man_world_summit\\n.alice_bo...   \n",
       "2  rory_bremner_s_one_man_world_summit\\n.david_ca...   \n",
       "3  dena_simmons_how_students_of_color_confront_im...   \n",
       "4  hans_rosling_religions_and_babies\\n.hans_rosli...   \n",
       "\n",
       "                                         ted_talk_bi  \n",
       "0  sakena_yacoobi_how_i_stopped_the_taliban_from_...  \n",
       "1  alice_bows_larkin_we_re_too_late_to_prevent_cl...  \n",
       "2  rory_bremner_s_one_man_world_summit\\n.david_ca...  \n",
       "3  janette_sadik_khan_new_york_s_streets_not_so_m...  \n",
       "4  hans_rosling_on_global_population_growth\\n.han...  "
      ]
     },
     "execution_count": 12,
     "metadata": {},
     "output_type": "execute_result"
    }
   ],
   "source": [
    "data.head()"
   ]
  },
  {
   "cell_type": "code",
   "execution_count": 13,
   "id": "f82bb4ff",
   "metadata": {},
   "outputs": [
    {
     "data": {
      "text/plain": [
       "0       rory_bremner_s_one_man_world_summit\\n.sakena_y...\n",
       "1       rory_bremner_s_one_man_world_summit\\n.alice_bo...\n",
       "2       rory_bremner_s_one_man_world_summit\\n.david_ca...\n",
       "3       dena_simmons_how_students_of_color_confront_im...\n",
       "4       hans_rosling_religions_and_babies\\n.hans_rosli...\n",
       "                              ...                        \n",
       "2462    simon_anholt_which_country_does_the_most_good_...\n",
       "2463    penelope_boston\\n.joel_levine\\n.nathalie_cabro...\n",
       "2464    cynthia_breazeal_the_rise_of_personal_robots\\n...\n",
       "2465    the_inspiration_of_second_life\\n.kary_mullis_o...\n",
       "2466    amanda_burden_how_public_spaces_make_cities_wo...\n",
       "Name: ted_talks_uni, Length: 2467, dtype: object"
      ]
     },
     "execution_count": 13,
     "metadata": {},
     "output_type": "execute_result"
    }
   ],
   "source": [
    "data['ted_talks_uni']"
   ]
  },
  {
   "cell_type": "code",
   "execution_count": null,
   "id": "b7756859",
   "metadata": {},
   "outputs": [],
   "source": []
  }
 ],
 "metadata": {
  "kernelspec": {
   "display_name": "Python 3 (ipykernel)",
   "language": "python",
   "name": "python3"
  },
  "language_info": {
   "codemirror_mode": {
    "name": "ipython",
    "version": 3
   },
   "file_extension": ".py",
   "mimetype": "text/x-python",
   "name": "python",
   "nbconvert_exporter": "python",
   "pygments_lexer": "ipython3",
   "version": "3.9.0"
  }
 },
 "nbformat": 4,
 "nbformat_minor": 5
}
